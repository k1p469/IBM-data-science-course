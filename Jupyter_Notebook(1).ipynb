{
 "cells": [
  {
   "cell_type": "markdown",
   "metadata": {},
   "source": [
    "<center>\n",
    "    <img src=\"https://cf-courses-data.s3.us.cloud-object-storage.appdomain.cloud/IBMDeveloperSkillsNetwork-DS0105EN-SkillsNetwork/labs/Module2/images/SN_web_lightmode.png\" width=\"300\" alt=\"cognitiveclass.ai logo\"  />\n",
    "</center>\n"
   ]
  },
  {
   "cell_type": "markdown",
   "metadata": {
    "tags": []
   },
   "source": [
    "#### Add your code below following the instructions given in the course\n"
   ]
  },
  {
   "cell_type": "markdown",
   "metadata": {},
   "source": [
    "<h1>My Jupyter Notebook on IBM Watson Studio</h1>"
   ]
  },
  {
   "cell_type": "markdown",
   "metadata": {
    "tags": []
   },
   "source": [
    "<b>Ken Tang</b>"
   ]
  },
  {
   "cell_type": "markdown",
   "metadata": {},
   "source": [
    "<p>IT Support <del>Dog</del> Engineer</p>"
   ]
  },
  {
   "cell_type": "markdown",
   "metadata": {},
   "source": [
    "<em>I know MySQL and Python, which type of role can I do?</em>"
   ]
  },
  {
   "cell_type": "markdown",
   "metadata": {},
   "source": [
    "<h3>You are going to buy some clothing, how much you should pay?</h3>"
   ]
  },
  {
   "cell_type": "code",
   "execution_count": 2,
   "metadata": {},
   "outputs": [
    {
     "name": "stdout",
     "output_type": "stream",
     "text": [
      "It would cost you $ 984 in total\n",
      "With this receipt and tag, you can exchange or refund within 14 days!\n"
     ]
    }
   ],
   "source": [
    "x = [99,149,79,59,199,399]\n",
    "y = [\"Anya T-Shirt\", \"Hoodie\", \"L/S T-Shirt\", \"S/S T-shirt\", \"Jeans\", \"Business Jacket\"]\n",
    "print(\"It would cost you $\", sum(x), \"in total\")\n",
    "print(\"With this receipt and tag, you can exchange or refund within 14 days!\")\n"
   ]
  },
  {
   "cell_type": "markdown",
   "metadata": {},
   "source": [
    "| Item          | Price         |\n",
    "| ------------- |:-------------:|\n",
    "| Anya T-Shirt  | 99            |\n",
    "| Hoodie        | 149           |\n",
    "| L/S T-Shirt   | 79            |\n",
    "| S/S T-Shirt   | 59            |\n",
    "| Jeans         | 199           |\n",
    "|Business Jacket| 399           |\n",
    "| **Total**     | **984**       |\n",
    "\n",
    "https://www.uniqlo.com.hk/\n"
   ]
  },
  {
   "cell_type": "code",
   "execution_count": null,
   "metadata": {},
   "outputs": [],
   "source": []
  }
 ],
 "metadata": {
  "kernelspec": {
   "display_name": "Python",
   "language": "python",
   "name": "conda-env-python-py"
  },
  "language_info": {
   "codemirror_mode": {
    "name": "ipython",
    "version": 3
   },
   "file_extension": ".py",
   "mimetype": "text/x-python",
   "name": "python",
   "nbconvert_exporter": "python",
   "pygments_lexer": "ipython3",
   "version": "3.7.12"
  }
 },
 "nbformat": 4,
 "nbformat_minor": 4
}
